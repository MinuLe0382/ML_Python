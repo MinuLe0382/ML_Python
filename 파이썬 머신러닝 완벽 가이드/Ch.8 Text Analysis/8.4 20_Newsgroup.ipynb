{
 "cells": [
  {
   "cell_type": "markdown",
   "id": "1ac68035-afcc-4ada-9b80-e24a9499b90e",
   "metadata": {},
   "source": [
    "# **8.4 20 Newsgroup**"
   ]
  },
  {
   "cell_type": "code",
   "execution_count": 1,
   "id": "16de8047-7b6c-4e8c-aeb4-e44e7bc420be",
   "metadata": {},
   "outputs": [],
   "source": [
    "from sklearn.datasets import fetch_20newsgroups\n",
    "\n",
    "news_data = fetch_20newsgroups(subset='all',random_state=156)"
   ]
  },
  {
   "cell_type": "code",
   "execution_count": 2,
   "id": "8de38d04-d0ea-40d3-b805-cf4e134862de",
   "metadata": {},
   "outputs": [
    {
     "data": {
      "text/plain": [
       "sklearn.utils._bunch.Bunch"
      ]
     },
     "execution_count": 2,
     "metadata": {},
     "output_type": "execute_result"
    }
   ],
   "source": [
    "type(news_data) # bunch는 dict와 유사한 데이터타입"
   ]
  },
  {
   "cell_type": "code",
   "execution_count": 3,
   "id": "a0a1a3ae-6b79-42f6-a1ef-52105dc4b5bc",
   "metadata": {},
   "outputs": [
    {
     "name": "stdout",
     "output_type": "stream",
     "text": [
      "dict_keys(['data', 'filenames', 'target_names', 'target', 'DESCR'])\n"
     ]
    }
   ],
   "source": [
    "print(news_data.keys())"
   ]
  },
  {
   "cell_type": "code",
   "execution_count": 4,
   "id": "efd652e5-6555-4d73-b135-b660f184bd7e",
   "metadata": {},
   "outputs": [
    {
     "data": {
      "text/plain": [
       "['alt.atheism',\n",
       " 'comp.graphics',\n",
       " 'comp.os.ms-windows.misc',\n",
       " 'comp.sys.ibm.pc.hardware',\n",
       " 'comp.sys.mac.hardware',\n",
       " 'comp.windows.x',\n",
       " 'misc.forsale',\n",
       " 'rec.autos',\n",
       " 'rec.motorcycles',\n",
       " 'rec.sport.baseball',\n",
       " 'rec.sport.hockey',\n",
       " 'sci.crypt',\n",
       " 'sci.electronics',\n",
       " 'sci.med',\n",
       " 'sci.space',\n",
       " 'soc.religion.christian',\n",
       " 'talk.politics.guns',\n",
       " 'talk.politics.mideast',\n",
       " 'talk.politics.misc',\n",
       " 'talk.religion.misc']"
      ]
     },
     "execution_count": 4,
     "metadata": {},
     "output_type": "execute_result"
    }
   ],
   "source": [
    "news_data.target_names"
   ]
  },
  {
   "cell_type": "code",
   "execution_count": 6,
   "id": "38b323be-359a-4a0b-906b-d83cda084b35",
   "metadata": {},
   "outputs": [
    {
     "name": "stdout",
     "output_type": "stream",
     "text": [
      "target 클래스의 값과 분포도 \n",
      " 0     799\n",
      "1     973\n",
      "2     985\n",
      "3     982\n",
      "4     963\n",
      "5     988\n",
      "6     975\n",
      "7     990\n",
      "8     996\n",
      "9     994\n",
      "10    999\n",
      "11    991\n",
      "12    984\n",
      "13    990\n",
      "14    987\n",
      "15    997\n",
      "16    910\n",
      "17    940\n",
      "18    775\n",
      "19    628\n",
      "Name: count, dtype: int64\n",
      "target 클래스의 이름들 \n",
      " ['alt.atheism', 'comp.graphics', 'comp.os.ms-windows.misc', 'comp.sys.ibm.pc.hardware', 'comp.sys.mac.hardware', 'comp.windows.x', 'misc.forsale', 'rec.autos', 'rec.motorcycles', 'rec.sport.baseball', 'rec.sport.hockey', 'sci.crypt', 'sci.electronics', 'sci.med', 'sci.space', 'soc.religion.christian', 'talk.politics.guns', 'talk.politics.mideast', 'talk.politics.misc', 'talk.religion.misc']\n"
     ]
    }
   ],
   "source": [
    "import pandas as pd\n",
    "\n",
    "print('target 클래스의 값과 분포도 \\n',pd.Series(news_data.target).value_counts().sort_index())\n",
    "print('target 클래스의 이름들 \\n',news_data.target_names)"
   ]
  },
  {
   "cell_type": "code",
   "execution_count": 7,
   "id": "1d2ec037-570f-45d2-a87c-9e55375f579c",
   "metadata": {},
   "outputs": [
    {
     "data": {
      "text/plain": [
       "18846"
      ]
     },
     "execution_count": 7,
     "metadata": {},
     "output_type": "execute_result"
    }
   ],
   "source": [
    "pd.Series(news_data.target).value_counts().sum() # 데이터 갯수"
   ]
  },
  {
   "cell_type": "code",
   "execution_count": 8,
   "id": "3d34222b-e05f-4cc0-8050-2d50bcc26e6d",
   "metadata": {},
   "outputs": [
    {
     "name": "stdout",
     "output_type": "stream",
     "text": [
      "From: egreen@east.sun.com (Ed Green - Pixel Cruncher)\n",
      "Subject: Re: Observation re: helmets\n",
      "Organization: Sun Microsystems, RTP, NC\n",
      "Lines: 21\n",
      "Distribution: world\n",
      "Reply-To: egreen@east.sun.com\n",
      "NNTP-Posting-Host: laser.east.sun.com\n",
      "\n",
      "In article 211353@mavenry.altcit.eskimo.com, maven@mavenry.altcit.eskimo.com (Norman Hamer) writes:\n",
      "> \n",
      "> The question for the day is re: passenger helmets, if you don't know for \n",
      ">certain who's gonna ride with you (like say you meet them at a .... church \n",
      ">meeting, yeah, that's the ticket)... What are some guidelines? Should I just \n",
      ">pick up another shoei in my size to have a backup helmet (XL), or should I \n",
      ">maybe get an inexpensive one of a smaller size to accomodate my likely \n",
      ">passenger? \n",
      "\n",
      "If your primary concern is protecting the passenger in the event of a\n",
      "crash, have him or her fitted for a helmet that is their size.  If your\n",
      "primary concern is complying with stupid helmet laws, carry a real big\n",
      "spare (you can put a big or small head in a big helmet, but not in a\n",
      "small one).\n",
      "\n",
      "---\n",
      "Ed Green, former Ninjaite |I was drinking last night with a biker,\n",
      "  Ed.Green@East.Sun.COM   |and I showed him a picture of you.  I said,\n",
      "DoD #0111  (919)460-8302  |\"Go on, get to know her, you'll like her!\"\n",
      " (The Grateful Dead) -->  |It seemed like the least I could do...\n",
      "\n",
      "\n"
     ]
    }
   ],
   "source": [
    "print(news_data.data[0])"
   ]
  },
  {
   "cell_type": "code",
   "execution_count": 9,
   "id": "e4339398-5d77-4385-a9f7-7f2d8cce1213",
   "metadata": {},
   "outputs": [
    {
     "name": "stdout",
     "output_type": "stream",
     "text": [
      "<class 'list'>\n",
      "학습 데이터 크기 11314 , 테스트 데이터 크기 7532\n"
     ]
    }
   ],
   "source": [
    "from sklearn.datasets import fetch_20newsgroups\n",
    "\n",
    "# 본문 내용만 뽑아야한다. 헤더에는 주제를 예측할 수 있는 요소가 너무 쉽게 있음\n",
    "# subset='train'으로 학습용(Train) 데이터만 추출, remove=('headers', 'footers', 'quotes')로 내용만 추출\n",
    "train_news= fetch_20newsgroups(subset='train', remove=('headers', 'footers', 'quotes'), random_state=156)\n",
    "X_train = train_news.data\n",
    "y_train = train_news.target\n",
    "print(type(X_train))\n",
    "\n",
    "# subset='test'으로 테스트(Test) 데이터만 추출, remove=('headers', 'footers', 'quotes')로 내용만 추출\n",
    "test_news= fetch_20newsgroups(subset='test',remove=('headers', 'footers','quotes'),random_state=156)\n",
    "X_test = test_news.data\n",
    "y_test = test_news.target\n",
    "print('학습 데이터 크기 {0} , 테스트 데이터 크기 {1}'.format(len(train_news.data) , len(test_news.data)))"
   ]
  },
  {
   "cell_type": "markdown",
   "id": "e4b85b81-b517-4aa1-a2d9-2fbea100968d",
   "metadata": {},
   "source": [
    "### **Feature Vectorization**"
   ]
  },
  {
   "cell_type": "markdown",
   "id": "c41b4a9a-9e6c-424f-87b8-4a8949810417",
   "metadata": {},
   "source": [
    "**주의: 학습 데이터에 대해 fit( )된 CountVectorizer를 이용해서 테스트 데이터를 피처 벡터화 해야함.**  \n",
    "테스트 데이터에서 다시 CountVectorizer의 fit_transform()을 수행하거나 fit()을 수행 하면 안됨.   \n",
    "이는 이렇게 테스트 데이터에서 fit()을 수행하게 되면 기존 학습된 모델에서 가지는 feature의 갯수가 달라지기 때문임."
   ]
  },
  {
   "cell_type": "code",
   "execution_count": 10,
   "id": "ae4ee020-e399-43b4-bd59-d0629be26802",
   "metadata": {},
   "outputs": [
    {
     "name": "stdout",
     "output_type": "stream",
     "text": [
      "학습 데이터 Text의 CountVectorizer Shape: (11314, 101631)\n"
     ]
    }
   ],
   "source": [
    "from sklearn.feature_extraction.text import CountVectorizer\n",
    "\n",
    "# Count Vectorization으로 feature extraction 변환 수행. \n",
    "cnt_vect = CountVectorizer()\n",
    "cnt_vect.fit(X_train)\n",
    "X_train_cnt_vect = cnt_vect.transform(X_train)\n",
    "\n",
    "# 학습 데이터로 fit( )된 CountVectorizer를 이용하여 테스트 데이터를 feature extraction 변환 수행. \n",
    "X_test_cnt_vect = cnt_vect.transform(X_test)\n",
    "\n",
    "print('학습 데이터 Text의 CountVectorizer Shape:',X_train_cnt_vect.shape)"
   ]
  },
  {
   "cell_type": "markdown",
   "id": "11766510-c4ac-4bdd-b4fd-fdfae69d925d",
   "metadata": {},
   "source": [
    "11314개의 문서에서 단어가 101631개 만들어졌다."
   ]
  },
  {
   "cell_type": "code",
   "execution_count": 27,
   "id": "a63cd267-b8e0-48ac-bece-996b409b8676",
   "metadata": {},
   "outputs": [
    {
     "data": {
      "text/plain": [
       "(7532, 101631)"
      ]
     },
     "execution_count": 27,
     "metadata": {},
     "output_type": "execute_result"
    }
   ],
   "source": [
    "X_test_cnt_vect.shape"
   ]
  },
  {
   "cell_type": "code",
   "execution_count": 30,
   "id": "55af65d8-8da6-400f-bc58-e9a3c66bff74",
   "metadata": {},
   "outputs": [],
   "source": [
    "# cnt_vect.fit(X_test)\n",
    "# X_test_cnt_vect = cnt_vect.transform(X_test)\n",
    "# print('학습 데이터 Text의 CountVectorizer Shape:',X_test_cnt_vect.shape)\n",
    "\n",
    "# (7532, 71018) 피쳐 갯수가 달라진다."
   ]
  },
  {
   "cell_type": "markdown",
   "id": "d9d82d67-71ee-4c77-b639-7336e1403bff",
   "metadata": {},
   "source": [
    "train data에 없는 단어가 test data에 있을 수 있다. 이런경우 매트릭스에 관련된 정보는 없다."
   ]
  },
  {
   "cell_type": "code",
   "execution_count": 24,
   "id": "3d307b6e-9e93-4a3b-bfd6-f58f2241d196",
   "metadata": {},
   "outputs": [
    {
     "name": "stdout",
     "output_type": "stream",
     "text": [
      "  (0, 2878)\t1\n",
      "  (0, 4681)\t1\n",
      "  (0, 12266)\t1\n",
      "  (0, 41127)\t1\n",
      "  (0, 42859)\t1\n",
      "  (0, 51136)\t1\n",
      "  (0, 56819)\t1\n",
      "  (0, 86525)\t1\n",
      "  (0, 87985)\t1\n",
      "  (0, 88532)\t1\n",
      "  (1, 18521)\t1\n",
      "  (1, 20259)\t2\n",
      "  (1, 22940)\t1\n",
      "  (1, 23442)\t1\n",
      "  (1, 24943)\t1\n",
      "  (1, 30763)\t1\n",
      "  (1, 38758)\t1\n",
      "  (1, 41127)\t1\n",
      "  (1, 46366)\t1\n",
      "  (1, 57393)\t1\n",
      "  (1, 61072)\t1\n",
      "  (1, 67670)\t2\n",
      "  (1, 68080)\t2\n",
      "  (1, 72502)\t1\n",
      "  (1, 76599)\t1\n",
      "  :\t:\n",
      "  (7530, 88882)\t1\n",
      "  (7530, 88955)\t1\n",
      "  (7530, 89360)\t11\n",
      "  (7530, 89404)\t1\n",
      "  (7530, 89701)\t1\n",
      "  (7530, 89866)\t1\n",
      "  (7530, 90130)\t1\n",
      "  (7530, 90328)\t1\n",
      "  (7530, 92156)\t1\n",
      "  (7530, 92629)\t1\n",
      "  (7530, 92671)\t1\n",
      "  (7530, 92706)\t1\n",
      "  (7530, 95770)\t2\n",
      "  (7530, 95844)\t2\n",
      "  (7530, 96247)\t5\n",
      "  (7530, 96454)\t2\n",
      "  (7530, 96532)\t4\n",
      "  (7530, 96917)\t4\n",
      "  (7530, 96939)\t1\n",
      "  (7530, 97332)\t1\n",
      "  (7530, 99908)\t1\n",
      "  (7530, 99911)\t1\n",
      "  (7530, 99943)\t1\n",
      "  (7530, 99954)\t2\n",
      "  (7530, 101277)\t1\n"
     ]
    }
   ],
   "source": [
    "print(X_test_cnt_vect)"
   ]
  },
  {
   "cell_type": "code",
   "execution_count": 11,
   "id": "3c441a87-bf54-4289-b0b8-e135e985b9ed",
   "metadata": {},
   "outputs": [
    {
     "name": "stdout",
     "output_type": "stream",
     "text": [
      "CountVectorized Logistic Regression 의 예측 정확도는 0.617\n"
     ]
    }
   ],
   "source": [
    "from sklearn.linear_model import LogisticRegression\n",
    "from sklearn.metrics import accuracy_score\n",
    "import warnings\n",
    "warnings.filterwarnings('ignore')\n",
    "\n",
    "# LogisticRegression을 이용하여 학습/예측/평가 수행. \n",
    "# LogisticRegression의 solver를 기본값인 lbfgs이 아닌 liblinear로 설정해야 학습이 오래 걸리지 않음. \n",
    "lr_clf = LogisticRegression(solver='liblinear')\n",
    "\n",
    "lr_clf.fit(X_train_cnt_vect , y_train)\n",
    "pred = lr_clf.predict(X_test_cnt_vect)\n",
    "\n",
    "print('CountVectorized Logistic Regression 의 예측 정확도는 {0:.3f}'.format(accuracy_score(y_test,pred)))"
   ]
  },
  {
   "cell_type": "markdown",
   "id": "040ed28f-107f-4385-a4bb-fc970815c2c7",
   "metadata": {},
   "source": [
    "벡터로 만드는 것 자체는 예측이 아니고, 다른 알고리즘에 넣을 수 있게 변환하는 과정"
   ]
  },
  {
   "cell_type": "code",
   "execution_count": 12,
   "id": "773b9c9f-95a7-4aea-b8e0-8c375b144edf",
   "metadata": {},
   "outputs": [
    {
     "data": {
      "text/plain": [
       "array([ 4, 11,  2, ...,  6, 17,  9])"
      ]
     },
     "execution_count": 12,
     "metadata": {},
     "output_type": "execute_result"
    }
   ],
   "source": [
    "pred"
   ]
  },
  {
   "cell_type": "markdown",
   "id": "409163d8-a1e6-4426-9629-e22e46c14450",
   "metadata": {},
   "source": [
    "**TF-IDF Feature Transform**"
   ]
  },
  {
   "cell_type": "code",
   "execution_count": 13,
   "id": "2776775b-b88d-4a66-a673-f335451c439e",
   "metadata": {},
   "outputs": [
    {
     "name": "stdout",
     "output_type": "stream",
     "text": [
      "TF-IDF Logistic Regression 의 예측 정확도는 0.678\n"
     ]
    }
   ],
   "source": [
    "from sklearn.feature_extraction.text import TfidfVectorizer\n",
    "\n",
    "# TF-IDF Vectorization 적용하여 학습 데이터셋과 테스트 데이터 셋 변환. \n",
    "tfidf_vect = TfidfVectorizer()\n",
    "tfidf_vect.fit(X_train)\n",
    "X_train_tfidf_vect = tfidf_vect.transform(X_train)\n",
    "X_test_tfidf_vect = tfidf_vect.transform(X_test)\n",
    "\n",
    "# LogisticRegression을 이용하여 학습/예측/평가 수행. \n",
    "lr_clf = LogisticRegression(solver='liblinear')\n",
    "lr_clf.fit(X_train_tfidf_vect , y_train)\n",
    "pred = lr_clf.predict(X_test_tfidf_vect)\n",
    "print('TF-IDF Logistic Regression 의 예측 정확도는 {0:.3f}'.format(accuracy_score(y_test ,pred)))"
   ]
  },
  {
   "cell_type": "markdown",
   "id": "dce8beb3-e322-44fc-b928-7eb540fab0e3",
   "metadata": {},
   "source": [
    "**stop words filtering, ngram (1,2)**"
   ]
  },
  {
   "cell_type": "code",
   "execution_count": 31,
   "id": "fb68ade4-efd6-4dc6-8619-671ddcbdb684",
   "metadata": {},
   "outputs": [
    {
     "name": "stdout",
     "output_type": "stream",
     "text": [
      "TF-IDF Vectorized Logistic Regression 의 예측 정확도는 0.690\n"
     ]
    }
   ],
   "source": [
    "# stop words 필터링을 추가하고 ngram을 기본(1,1)에서 (1,2)로 변경하여 Feature Vectorization 적용.\n",
    "tfidf_vect = TfidfVectorizer(stop_words='english', ngram_range=(1,2), max_df=300)\n",
    "tfidf_vect.fit(X_train)\n",
    "X_train_tfidf_vect = tfidf_vect.transform(X_train)\n",
    "X_test_tfidf_vect = tfidf_vect.transform(X_test)\n",
    "\n",
    "lr_clf = LogisticRegression(solver='liblinear')\n",
    "lr_clf.fit(X_train_tfidf_vect , y_train)\n",
    "pred = lr_clf.predict(X_test_tfidf_vect)\n",
    "print('TF-IDF Vectorized Logistic Regression 의 예측 정확도는 {0:.3f}'.format(accuracy_score(y_test ,pred)))"
   ]
  },
  {
   "cell_type": "code",
   "execution_count": 33,
   "id": "e742992b-d910-4d32-b920-ff8b9d592d4e",
   "metadata": {},
   "outputs": [
    {
     "data": {
      "text/plain": [
       "(11314, 943453)"
      ]
     },
     "execution_count": 33,
     "metadata": {},
     "output_type": "execute_result"
    }
   ],
   "source": [
    "X_train_tfidf_vect.shape # 엄청 많이 늘어난다."
   ]
  },
  {
   "cell_type": "markdown",
   "id": "a023da6c-7846-4bbf-a77d-22c7d77e8cea",
   "metadata": {},
   "source": [
    "### **LogisticRegression C param Tuning with GridSearchCV**"
   ]
  },
  {
   "cell_type": "markdown",
   "id": "03594673-8140-4de4-aa36-54146d84dcea",
   "metadata": {},
   "source": [
    "alpha는 릿지와 라쏘에 쓰이던 계수로 규제를 강하게 하겠다는 의미. c는 alpha의 역수  \n",
    "\n",
    "회귀당시, 훈련데이터를 맞추는데에만 급급하여 회귀계수가 커져서 오버피팅이 되는 것을 보았다,  \n",
    "\n",
    "릿지와 라쏘는 그것을 막는 것이었음."
   ]
  },
  {
   "cell_type": "code",
   "execution_count": 34,
   "id": "ea77dcfe-9b5f-450a-81e1-e51539b6f58a",
   "metadata": {},
   "outputs": [
    {
     "name": "stdout",
     "output_type": "stream",
     "text": [
      "Fitting 3 folds for each of 5 candidates, totalling 15 fits\n",
      "Logistic Regression best C parameter : {'C': 10}\n",
      "TF-IDF Vectorized Logistic Regression 의 예측 정확도는 0.704\n"
     ]
    }
   ],
   "source": [
    "from sklearn.model_selection import GridSearchCV\n",
    "\n",
    "# 최적 C 값 도출 튜닝 수행. CV는 3 Fold셋으로 설정. \n",
    "params = { 'C':[0.01, 0.1, 1, 5, 10]}\n",
    "grid_cv_lr = GridSearchCV(lr_clf ,param_grid=params , cv=3 , scoring='accuracy' , verbose=1 )\n",
    "grid_cv_lr.fit(X_train_tfidf_vect , y_train)\n",
    "print('Logistic Regression best C parameter :',grid_cv_lr.best_params_ )\n",
    "\n",
    "# 최적 C 값으로 학습된 grid_cv로 예측 수행하고 정확도 평가. \n",
    "pred = grid_cv_lr.predict(X_test_tfidf_vect)\n",
    "print('TF-IDF Vectorized Logistic Regression 의 예측 정확도는 {0:.3f}'.format(accuracy_score(y_test ,pred)))"
   ]
  },
  {
   "cell_type": "markdown",
   "id": "4aa509be-385c-4fdf-9f8d-71e15b740109",
   "metadata": {},
   "source": [
    "### **Scikit-Learn Pipeline, GridSearchCV**"
   ]
  },
  {
   "cell_type": "markdown",
   "id": "d9a26fec-2959-4c5a-b733-74d530a8f9c6",
   "metadata": {},
   "source": [
    "TfidfVectorizer도 fit, transform을 쓰고 LogisticRegression도 fit transform을 사용했다. 메소드가 중복으로 사용되는것을 좀 완화하기 위해 pipeline을 적용할 수 있다. "
   ]
  },
  {
   "cell_type": "code",
   "execution_count": 35,
   "id": "ac993fea-5317-46fa-82be-e4c4d6ca11ec",
   "metadata": {},
   "outputs": [
    {
     "name": "stdout",
     "output_type": "stream",
     "text": [
      "Pipeline을 통한 Logistic Regression 의 예측 정확도는 0.704\n"
     ]
    }
   ],
   "source": [
    "from sklearn.pipeline import Pipeline\n",
    "\n",
    "# TfidfVectorizer 객체를 tfidf_vect 객체명으로, LogisticRegression객체를 lr_clf 객체명으로 생성하는 Pipeline생성\n",
    "pipeline = Pipeline([\n",
    "    ('tfidf_vect', TfidfVectorizer(stop_words='english', ngram_range=(1,2), max_df=300)),\n",
    "    ('lr_clf', LogisticRegression(solver='liblinear', C=10))\n",
    "])\n",
    "\n",
    "# 별도의 TfidfVectorizer객체의 fit_transform( )과 LogisticRegression의 fit(), predict( )가 필요 없음. \n",
    "# pipeline의 fit( ) 과 predict( ) 만으로 한꺼번에 Feature Vectorization과 ML 학습/예측이 가능. \n",
    "pipeline.fit(X_train, y_train)\n",
    "pred = pipeline.predict(X_test)\n",
    "print('Pipeline을 통한 Logistic Regression 의 예측 정확도는 {0:.3f}'.format(accuracy_score(y_test ,pred)))"
   ]
  },
  {
   "attachments": {
    "1145dc09-084e-4856-941a-d59471b6435d.png": {
     "image/png": "[encoded data removed]"
    }
   },
   "cell_type": "markdown",
   "id": "8ed7d230-8d6e-4145-b857-8bb430144348",
   "metadata": {},
   "source": [
    "![image.png](attachment:1145dc09-084e-4856-941a-d59471b6435d.png)"
   ]
  },
  {
   "cell_type": "markdown",
   "id": "16367fa7-2048-485b-9a9e-915e8f8366de",
   "metadata": {},
   "source": [
    "파이프라인 마지막에 있는 메소드가 predict를 쓰는지, transform을 쓰는지 확인해서 파이프라인도 동일하게 따라간다."
   ]
  },
  {
   "cell_type": "code",
   "execution_count": 36,
   "id": "0f9648c9-33b0-4d7b-8e17-fd4cd15873c9",
   "metadata": {},
   "outputs": [
    {
     "name": "stdout",
     "output_type": "stream",
     "text": [
      "Fitting 3 folds for each of 12 candidates, totalling 36 fits\n",
      "{'lr_clf__C': 10, 'tfidf_vect__max_df': 300, 'tfidf_vect__ngram_range': (1, 2)} 0.7546412412863363\n",
      "Pipeline을 통한 Logistic Regression 의 예측 정확도는 0.704\n"
     ]
    }
   ],
   "source": [
    "from sklearn.pipeline import Pipeline\n",
    "\n",
    "pipeline = Pipeline([\n",
    "    ('tfidf_vect', TfidfVectorizer(stop_words='english')),\n",
    "    ('lr_clf', LogisticRegression(solver='liblinear'))\n",
    "])\n",
    "\n",
    "# Pipeline에 기술된 각각의 객체 변수에 언더바(_)2개를 연달아 붙여 GridSearchCV에 사용될 \n",
    "# 파라미터/하이퍼 파라미터 이름과 값을 설정. . \n",
    "params = { 'tfidf_vect__ngram_range': [(1,1), (1,2)],\n",
    "           'tfidf_vect__max_df': [100, 300],\n",
    "           'lr_clf__C': [1,5,10]\n",
    "}\n",
    "\n",
    "# GridSearchCV의 생성자에 Estimator가 아닌 Pipeline 객체 입력\n",
    "grid_cv_pipe = GridSearchCV(pipeline, param_grid=params, cv=3 , scoring='accuracy',verbose=1)\n",
    "grid_cv_pipe.fit(X_train , y_train)\n",
    "print(grid_cv_pipe.best_params_ , grid_cv_pipe.best_score_)\n",
    "\n",
    "pred = grid_cv_pipe.predict(X_test)\n",
    "print('Pipeline을 통한 Logistic Regression 의 예측 정확도는 {0:.3f}'.format(accuracy_score(y_test ,pred)))"
   ]
  },
  {
   "cell_type": "markdown",
   "id": "ed67dcd6-4554-42e9-af08-c7fdab03de9e",
   "metadata": {},
   "source": [
    "Logistic Regression 이외에도 SVM, Naive Bayes도 희소 행렬 기반의 텍스트 분류에 자주 사용이 된다."
   ]
  }
 ],
 "metadata": {
  "kernelspec": {
   "display_name": "Python 3 (ipykernel)",
   "language": "python",
   "name": "python3"
  },
  "language_info": {
   "codemirror_mode": {
    "name": "ipython",
    "version": 3
   },
   "file_extension": ".py",
   "mimetype": "text/x-python",
   "name": "python",
   "nbconvert_exporter": "python",
   "pygments_lexer": "ipython3",
   "version": "3.11.9"
  }
 },
 "nbformat": 4,
 "nbformat_minor": 5
}
